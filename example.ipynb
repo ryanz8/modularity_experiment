{
 "cells": [
  {
   "cell_type": "code",
   "execution_count": null,
   "id": "62bfd34a",
   "metadata": {},
   "outputs": [],
   "source": [
    "import torch\n",
    "import numpy as np"
   ]
  },
  {
   "cell_type": "code",
   "execution_count": null,
   "id": "a134d870",
   "metadata": {},
   "outputs": [],
   "source": [
    "from evaluation import evaluate_fitness, DatasetObjective"
   ]
  },
  {
   "cell_type": "code",
   "execution_count": null,
   "id": "1dcaafd0",
   "metadata": {},
   "outputs": [],
   "source": [
    "g = [np.random.randn(28*28, 100), np.random.randn(100), np.random.randn(100, 10), np.random.randn(10)]\n",
    "o = DatasetObjective(dataset_name = 'MNIST', evaluation_metric = 'acc')"
   ]
  },
  {
   "cell_type": "code",
   "execution_count": null,
   "id": "bbb59337",
   "metadata": {},
   "outputs": [],
   "source": [
    "evaluate_fitness(g, o)"
   ]
  },
  {
   "cell_type": "code",
   "execution_count": null,
   "id": "99bf01ea",
   "metadata": {},
   "outputs": [],
   "source": []
  },
  {
   "cell_type": "code",
   "execution_count": null,
   "id": "7aa7bd5c",
   "metadata": {},
   "outputs": [],
   "source": []
  }
 ],
 "metadata": {
  "kernelspec": {
   "display_name": "Python 3",
   "language": "python",
   "name": "python3"
  },
  "language_info": {
   "codemirror_mode": {
    "name": "ipython",
    "version": 3
   },
   "file_extension": ".py",
   "mimetype": "text/x-python",
   "name": "python",
   "nbconvert_exporter": "python",
   "pygments_lexer": "ipython3",
   "version": "3.8.10"
  },
  "varInspector": {
   "cols": {
    "lenName": 16,
    "lenType": 16,
    "lenVar": 40
   },
   "kernels_config": {
    "python": {
     "delete_cmd_postfix": "",
     "delete_cmd_prefix": "del ",
     "library": "var_list.py",
     "varRefreshCmd": "print(var_dic_list())"
    },
    "r": {
     "delete_cmd_postfix": ") ",
     "delete_cmd_prefix": "rm(",
     "library": "var_list.r",
     "varRefreshCmd": "cat(var_dic_list()) "
    }
   },
   "types_to_exclude": [
    "module",
    "function",
    "builtin_function_or_method",
    "instance",
    "_Feature"
   ],
   "window_display": false
  }
 },
 "nbformat": 4,
 "nbformat_minor": 5
}
