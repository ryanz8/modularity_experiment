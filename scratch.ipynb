{
 "cells": [
  {
   "cell_type": "code",
   "execution_count": 1,
   "id": "62bfd34a",
   "metadata": {},
   "outputs": [],
   "source": [
    "import torch\n",
    "import torch.nn as nn\n",
    "import torch.optim as optim\n",
    "import torchvision\n",
    "import torchvision.transforms as transforms\n",
    "import torch.nn.functional as F\n",
    "\n",
    "\n",
    "import numpy as np"
   ]
  },
  {
   "cell_type": "code",
   "execution_count": 2,
   "id": "a134d870",
   "metadata": {},
   "outputs": [],
   "source": [
    "def getdev():\n",
    "    return 'cpu'\n",
    "#     dev = 'cuda' if torch.cuda.is_available() else 'cpu'\n",
    "#     return dev\n",
    "\n",
    "class accuracy:\n",
    "    \"\"\"Returns count of correct classes.\n",
    "    \n",
    "    output: predicted probability of each class\n",
    "    target: ground truth class label (index value of the correct class)\n",
    "    \"\"\"\n",
    "    \n",
    "    def __init__(self, reduction = None):\n",
    "        super().__init__()\n",
    "        self.reduction = reduction\n",
    "\n",
    "\n",
    "    def __repr__(self):\n",
    "        return 'Accuracy'\n",
    "\n",
    "    def __str__(self):\n",
    "        return 'Accuracy'\n",
    "    \n",
    "    def __call__(self, output, target_classes):\n",
    "        _, predicted_class = torch.max(output.data, -1)\n",
    "        if (target_classes.shape != predicted_class.shape):\n",
    "            print('Warning: predicted_class shape does not match target_class shape')\n",
    "            print('predicted_class shape:', predicted_class.shape, ' target_classes shape:', target_classes.shape)\n",
    "        if (self.reduction == 'sum'):\n",
    "            return (predicted_class == target_classes).sum()\n",
    "        else:\n",
    "            return (predicted_class == target_classes).sum() / torch.numel(target_classes)"
   ]
  },
  {
   "cell_type": "code",
   "execution_count": 3,
   "id": "404ab21d",
   "metadata": {},
   "outputs": [],
   "source": [
    "# Testing functions\n",
    "\n",
    "def evaluate(evaluation_models, dataloader, metrics, dev = None):\n",
    "    if dev is None:\n",
    "        dev = getdev()\n",
    "    if not isinstance(evaluation_models, list):\n",
    "        evaluation_models = [evaluation_models]\n",
    "    for m in evaluation_models:\n",
    "        m.eval()\n",
    "\n",
    "    loss_eval = np.stack([np.zeros_like(metrics, dtype = float) for m in evaluation_models])\n",
    "    count_eval = np.stack([np.zeros_like(metrics, dtype = float) for m in evaluation_models])\n",
    "\n",
    "    with torch.no_grad():\n",
    "        # loop through batches first, since I think it takes longer to create batches\n",
    "        for batch_num, (batch_in, batch_target) in enumerate(dataloader, 0):\n",
    "            # get the inputs; data is a list of [inputs, labels]\n",
    "            batch_in, batch_target = batch_in.to(dev), batch_target.to(dev)\n",
    "\n",
    "            for model_num, model in enumerate(evaluation_models, 0):\n",
    "                output = model(batch_in)\n",
    "\n",
    "                for i, m in enumerate(metrics):\n",
    "                    loss_eval[model_num, i] += m(output, batch_target)\n",
    "                    count_eval[model_num, i] += np.prod(batch_target.shape)\n",
    "\n",
    "    loss_eval = loss_eval/count_eval\n",
    "    return loss_eval\n"
   ]
  },
  {
   "cell_type": "code",
   "execution_count": 4,
   "id": "0d16d164",
   "metadata": {},
   "outputs": [],
   "source": [
    "def _MNIST(transform):\n",
    "    data = torchvision.datasets.MNIST(root='./data', train=True,\n",
    "                                            download=True, transform=transform)\n",
    "    train_set, val_set = torch.utils.data.random_split(data, [50000, 10000])\n",
    "\n",
    "    test_set = torchvision.datasets.MNIST(root='./data', train=False,\n",
    "                                        download=True, transform=transform)\n",
    "    return train_set, val_set, test_set\n",
    "\n",
    "def MNIST():\n",
    "    input_size = (1, 28, 28)\n",
    "\n",
    "    transform = transforms.Compose(\n",
    "    [transforms.ToTensor(),\n",
    "     transforms.Normalize(0.5, 0.5)])\n",
    "\n",
    "    return _MNIST(transform) + (input_size,)"
   ]
  },
  {
   "cell_type": "code",
   "execution_count": 5,
   "id": "af68fb5d",
   "metadata": {},
   "outputs": [],
   "source": [
    "def load_data(dataset_name, params):\n",
    "    batch_size = params['batch_size']\n",
    "\n",
    "    if dataset_name == 'MNIST':\n",
    "        train_set, val_set, test_set, input_size = MNIST()\n",
    "    else:\n",
    "        raise(Exception(\"Unknown dataset name: \" + dataset_name))\n",
    "\n",
    "    train_loader = torch.utils.data.DataLoader(train_set, batch_size=batch_size,\n",
    "                                            shuffle=True, num_workers=6, pin_memory=torch.cuda.is_available())\n",
    "    val_loader = torch.utils.data.DataLoader(val_set, batch_size=batch_size,\n",
    "                                            shuffle=True, num_workers=6, pin_memory=torch.cuda.is_available())\n",
    "\n",
    "    test_loader = torch.utils.data.DataLoader(test_set, batch_size=batch_size,\n",
    "                                            shuffle=False, num_workers=6, pin_memory=torch.cuda.is_available())\n",
    "    return train_loader, val_loader, test_loader, input_size"
   ]
  },
  {
   "cell_type": "code",
   "execution_count": 6,
   "id": "f5688681",
   "metadata": {},
   "outputs": [
    {
     "name": "stderr",
     "output_type": "stream",
     "text": [
      "C:\\Users\\Ryan\\.conda\\envs\\neat\\lib\\site-packages\\torchvision\\datasets\\mnist.py:498: UserWarning: The given NumPy array is not writeable, and PyTorch does not support non-writeable tensors. This means you can write to the underlying (supposedly non-writeable) NumPy array using the tensor. You may want to copy the array to protect its data or make it writeable before converting it to a tensor. This type of warning will be suppressed for the rest of this program. (Triggered internally at  ..\\torch\\csrc\\utils\\tensor_numpy.cpp:180.)\n",
      "  return torch.from_numpy(parsed.astype(m[2], copy=False)).view(*s)\n"
     ]
    }
   ],
   "source": [
    "train_loader, val_loader, test_loader, input_size = load_data('MNIST', {'batch_size':200})"
   ]
  },
  {
   "cell_type": "code",
   "execution_count": null,
   "id": "d13e6c82",
   "metadata": {},
   "outputs": [],
   "source": []
  },
  {
   "cell_type": "code",
   "execution_count": 51,
   "id": "dcd554b4",
   "metadata": {},
   "outputs": [],
   "source": [
    "class FCNet(nn.Module):\n",
    "    '''\n",
    "    A simple fully connected model.\n",
    "    '''\n",
    "    def __init__(self, layer_size, dropout_prob):\n",
    "        super(FCNet, self).__init__()\n",
    "        self.layer_size = layer_size\n",
    "\n",
    "        self.linears = nn.ModuleList([nn.Linear(n_in, n_out) for n_in, n_out in zip(self.layer_size[:-1], self.layer_size[1::])])\n",
    "        self.dropout = nn.Dropout(p = dropout_prob)\n",
    "\n",
    "    def forward(self, x):\n",
    "        x = x.view(x.shape[0], -1)\n",
    "        for l in self.linears[:-1]:\n",
    "            x = F.relu(l(x))\n",
    "            x = self.dropout(x)\n",
    "        \n",
    "        # no relu on last layer\n",
    "        out = self.linears[-1](x)\n",
    "        # out = F.relu(self.fc1())\n",
    "        return out"
   ]
  },
  {
   "cell_type": "code",
   "execution_count": 52,
   "id": "6405e2ac",
   "metadata": {},
   "outputs": [
    {
     "data": {
      "text/plain": [
       "array([[0.000442]])"
      ]
     },
     "execution_count": 52,
     "metadata": {},
     "output_type": "execute_result"
    }
   ],
   "source": [
    "evaluate([net], val_loader, [accuracy()])"
   ]
  },
  {
   "cell_type": "code",
   "execution_count": 134,
   "id": "ad347693",
   "metadata": {},
   "outputs": [],
   "source": [
    "def evaluate_fitness(genome):\n",
    "    net = FCNet((784, 100, 10), 0)\n",
    "    \n",
    "    sd = net.state_dict()\n",
    "    \n",
    "    for i in range(len(net.linears)):\n",
    "        sd[f'linears.{i}.weight'] = torch.tensor(genome[2*i].T)\n",
    "        sd[f'linears.{i}.bias'] = torch.tensor(genome[2*i+1])\n",
    "    \n",
    "    net.load_state_dict(sd)\n",
    "    return evaluate([net], val_loader, [accuracy()])"
   ]
  },
  {
   "cell_type": "code",
   "execution_count": 135,
   "id": "1dcaafd0",
   "metadata": {},
   "outputs": [],
   "source": [
    "g = [np.random.randn(28*28, 100), np.random.randn(100), np.random.randn(100, 10), np.random.randn(10)]"
   ]
  },
  {
   "cell_type": "code",
   "execution_count": 136,
   "id": "bbb59337",
   "metadata": {},
   "outputs": [
    {
     "data": {
      "text/plain": [
       "array([[0.0007265]])"
      ]
     },
     "execution_count": 136,
     "metadata": {},
     "output_type": "execute_result"
    }
   ],
   "source": [
    "evaluate_fitness(g)"
   ]
  },
  {
   "cell_type": "code",
   "execution_count": null,
   "id": "99bf01ea",
   "metadata": {},
   "outputs": [],
   "source": []
  }
 ],
 "metadata": {
  "kernelspec": {
   "display_name": "Python 3",
   "language": "python",
   "name": "python3"
  },
  "language_info": {
   "codemirror_mode": {
    "name": "ipython",
    "version": 3
   },
   "file_extension": ".py",
   "mimetype": "text/x-python",
   "name": "python",
   "nbconvert_exporter": "python",
   "pygments_lexer": "ipython3",
   "version": "3.8.10"
  },
  "varInspector": {
   "cols": {
    "lenName": 16,
    "lenType": 16,
    "lenVar": 40
   },
   "kernels_config": {
    "python": {
     "delete_cmd_postfix": "",
     "delete_cmd_prefix": "del ",
     "library": "var_list.py",
     "varRefreshCmd": "print(var_dic_list())"
    },
    "r": {
     "delete_cmd_postfix": ") ",
     "delete_cmd_prefix": "rm(",
     "library": "var_list.r",
     "varRefreshCmd": "cat(var_dic_list()) "
    }
   },
   "types_to_exclude": [
    "module",
    "function",
    "builtin_function_or_method",
    "instance",
    "_Feature"
   ],
   "window_display": false
  }
 },
 "nbformat": 4,
 "nbformat_minor": 5
}
